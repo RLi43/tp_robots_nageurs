{
 "cells": [
  {
   "cell_type": "code",
   "execution_count": 1,
   "id": "eb804135",
   "metadata": {},
   "outputs": [],
   "source": [
    "import matplotlib.pyplot as plt\n",
    "import re\n",
    "import numpy as np"
   ]
  },
  {
   "cell_type": "code",
   "execution_count": 2,
   "id": "f12c354d",
   "metadata": {},
   "outputs": [
    {
     "name": "stdout",
     "output_type": "stream",
     "text": [
      "48 48 0\n",
      "data_30_8_5_3_0_2.txt data_30_10_15_3_0_0.txt\n"
     ]
    },
    {
     "ename": "IndexError",
     "evalue": "list index out of range",
     "output_type": "error",
     "traceback": [
      "\u001b[0;31m---------------------------------------------------------------------------\u001b[0m",
      "\u001b[0;31mIndexError\u001b[0m                                Traceback (most recent call last)",
      "\u001b[0;32m/tmp/ipykernel_977433/2985246024.py\u001b[0m in \u001b[0;36m<module>\u001b[0;34m\u001b[0m\n\u001b[1;32m      9\u001b[0m \u001b[0mprint\u001b[0m\u001b[0;34m(\u001b[0m\u001b[0mlen\u001b[0m\u001b[0;34m(\u001b[0m\u001b[0mtxt_files\u001b[0m\u001b[0;34m)\u001b[0m\u001b[0;34m,\u001b[0m \u001b[0mlen\u001b[0m\u001b[0;34m(\u001b[0m\u001b[0mstyle1\u001b[0m\u001b[0;34m)\u001b[0m\u001b[0;34m,\u001b[0m \u001b[0mlen\u001b[0m\u001b[0;34m(\u001b[0m\u001b[0mstyle2\u001b[0m\u001b[0;34m)\u001b[0m\u001b[0;34m)\u001b[0m\u001b[0;34m\u001b[0m\u001b[0;34m\u001b[0m\u001b[0m\n\u001b[1;32m     10\u001b[0m \u001b[0mprint\u001b[0m\u001b[0;34m(\u001b[0m\u001b[0mstyle1\u001b[0m\u001b[0;34m[\u001b[0m\u001b[0;36m0\u001b[0m\u001b[0;34m]\u001b[0m\u001b[0;34m,\u001b[0m \u001b[0mstyle1\u001b[0m\u001b[0;34m[\u001b[0m\u001b[0;36m1\u001b[0m\u001b[0;34m]\u001b[0m\u001b[0;34m)\u001b[0m\u001b[0;34m\u001b[0m\u001b[0;34m\u001b[0m\u001b[0m\n\u001b[0;32m---> 11\u001b[0;31m \u001b[0mprint\u001b[0m\u001b[0;34m(\u001b[0m\u001b[0mstyle2\u001b[0m\u001b[0;34m[\u001b[0m\u001b[0;36m0\u001b[0m\u001b[0;34m]\u001b[0m\u001b[0;34m)\u001b[0m\u001b[0;34m\u001b[0m\u001b[0;34m\u001b[0m\u001b[0m\n\u001b[0m",
      "\u001b[0;31mIndexError\u001b[0m: list index out of range"
     ]
    }
   ],
   "source": [
    "# data recorded in 2 styles\n",
    "from os import listdir\n",
    "from os.path import isfile, join\n",
    "\n",
    "datapath = './data'\n",
    "txt_files = [f for f in listdir(datapath) if isfile(join(datapath, f)) and f[-4:] == '.txt']\n",
    "style1 = [f for f in txt_files if f[:4] == 'data']\n",
    "style2 = [f for f in txt_files if f[:3] == 'amp']\n",
    "print(len(txt_files), len(style1), len(style2))\n",
    "print(style1[0], style1[1])\n",
    "print(style2[0])"
   ]
  },
  {
   "cell_type": "code",
   "execution_count": null,
   "id": "20d4a57e",
   "metadata": {},
   "outputs": [],
   "source": [
    "# rename the file\n",
    "from os import rename\n",
    "# style 1 with n\n",
    "for filename in style1:\n",
    "    segs = filename[5:-4].split('_')\n",
    "    amp = int(segs[0])\n",
    "    freq = int(segs[1])\n",
    "    phi = int(segs[2])\n",
    "    dis = int(segs[3])\n",
    "    if len(segs) == 4:\n",
    "        trial = 0\n",
    "    else:\n",
    "        try:\n",
    "            trial = int(segs[4])\n",
    "        except:\n",
    "            trial = int(segs[4][1:])\n",
    "    #print(f'{amp}_{freq}_{phi}_{dis}_{trial}')\n",
    "    rename(join(datapath, filename), join(datapath, f'data_{amp}_{freq}_{phi}_{dis}_0_{trial}.txt'))\n",
    "\n",
    "# style 2\n",
    "for filename in style2:\n",
    "    reg_amp = r\"amp\\d+\\.\\d+\"\n",
    "    reg_freq = r\"freq\\d+\\.\\d+\"\n",
    "    reg_phi = r\"phi-*\\d+\\.\\d+\"\n",
    "    reg_dist = r\"dist\\d+\\.\\d+\"\n",
    "    reg_trial = r\"tial\\d+\"\n",
    "    reg_turn = r\"turn-*\\d+\"\n",
    "    amp = int(float(re.findall(reg_amp, filename)[0][3:]))\n",
    "    freq = int(float(re.findall(reg_freq, filename)[0][4:])*10)\n",
    "    phi = int(float(re.findall(reg_phi, filename)[0][3:])*10)\n",
    "    dist = int(float(re.findall(reg_dist, filename)[0][4:]))\n",
    "    try:\n",
    "        turn = int(re.findall(reg_turn, filename)[0][4:])\n",
    "    except:\n",
    "        turn = 0\n",
    "    trial = int(re.findall(reg_trial, filename)[0][4:])\n",
    "    rename(join(datapath, filename), join(datapath, f'data_{amp}_{freq}_{phi}_{dist}_{turn}_{trial}.txt'))"
   ]
  },
  {
   "cell_type": "code",
   "execution_count": null,
   "id": "9059268c",
   "metadata": {
    "scrolled": false
   },
   "outputs": [],
   "source": [
    "txt_files = [f for f in listdir(datapath) if isfile(join(datapath, f)) and f[-4:] == '.txt' and f[:4] == 'data']\n",
    "params = np.array([[int(x) for x in f.replace('.txt', '_').split('_')[1:-1]] for f in txt_files])\n",
    "# amp, freq, phi, distance, turn, trial\n",
    "for i in range(5, -1, -1):\n",
    "    params = params[params[:, i].argsort(kind='mergesort')]  \n",
    "\n",
    "# print(params)\n",
    "\n",
    "key_value_idx = [0, 1, 2, 4]\n",
    "def ex_key_at(p):\n",
    "    return tuple([params_list[p][i] for i in key_value_idx])\n",
    "params_list = params.tolist()\n",
    "datas = {}\n",
    "p = 0\n",
    "pn = 1\n",
    "consist = False\n",
    "while True:\n",
    "    # create the key(params): values(trial num)\n",
    "    if not consist:\n",
    "        datas[ex_key_at(p)] = [(params_list[p][3], params_list[p][5])]\n",
    "    for i in key_value_idx: # amp, freq, phi, turn\n",
    "        consist = True\n",
    "        if params_list[p][i] != params_list[pn][i]:\n",
    "            consist = False\n",
    "            break\n",
    "    if consist: \n",
    "        datas[ex_key_at(p)] = datas[ex_key_at(p)] + [(params_list[pn][3], params_list[pn][5])]\n",
    "        pn += 1\n",
    "    else:\n",
    "        p = pn\n",
    "        pn += 1\n",
    "    if pn == len(params):\n",
    "        break\n",
    "\n",
    "print('key_param       ', '\\t num')\n",
    "for i in datas.keys():\n",
    "    print(i, '  \\t',len(datas[i]))"
   ]
  },
  {
   "cell_type": "code",
   "execution_count": null,
   "id": "441afeb9",
   "metadata": {},
   "outputs": [],
   "source": [
    "params_list[-1]"
   ]
  },
  {
   "cell_type": "code",
   "execution_count": null,
   "id": "f48ba52d",
   "metadata": {},
   "outputs": [],
   "source": [
    "def get_filename(params):\n",
    "    # please use datas to get the params \n",
    "    # so that it will be a file have such a name\n",
    "    return 'data/data_'+'_'.join([ str(params[i]) for i in range(6)])+'.txt'\n",
    "\n",
    "# test\n",
    "get_filename(params_list[-1])\n",
    "\n",
    "def get_params(key_params):\n",
    "    other_params = datas[key_params]\n",
    "    parsss = []\n",
    "    for i in range(len(other_params)):\n",
    "        pars = list(key_params)\n",
    "        pars.insert(3, other_params[i][0])\n",
    "        pars.append(other_params[i][1])\n",
    "        parsss.append(pars)\n",
    "    return parsss\n",
    "\n",
    "# test\n",
    "get_params((30, 8, -6, 0))"
   ]
  },
  {
   "cell_type": "code",
   "execution_count": null,
   "id": "616d693b",
   "metadata": {},
   "outputs": [],
   "source": [
    "filename = 'data/data_30_8_5_3_0_0.txt'\n",
    "with open(filename, 'r') as file:\n",
    "    file = open(filename, 'r')\n",
    "    xyt = []\n",
    "    traj_t = file.readlines()\n",
    "regex = r\"\\d+\\.\\d+\"\n",
    "for ele in traj_t:\n",
    "    x, y, t = re.findall(regex, ele)\n",
    "    xyt.append([float(x), float(y), float(t)])\n",
    "xyt = np.array(xyt)\n",
    "dist = np.power((xyt - xyt[0, :]), 2)[:, :-1].sum(axis=1)"
   ]
  },
  {
   "cell_type": "code",
   "execution_count": null,
   "id": "ba4dd12f",
   "metadata": {},
   "outputs": [],
   "source": []
  },
  {
   "cell_type": "code",
   "execution_count": null,
   "id": "5d3e206a",
   "metadata": {},
   "outputs": [],
   "source": [
    "def plot_traj_t(filename=\"data/data_30_10_5_30_15_1.txt\", params=[30, 1.0, 0.5]):\n",
    "    with open(filename, 'r') as file:\n",
    "        xyt = []\n",
    "        traj_t = file.readlines()\n",
    "    regex = r\"\\d+\\.\\d+\"\n",
    "    for ele in traj_t:\n",
    "        x, y, t = re.findall(regex, ele)\n",
    "        xyt.append([float(x), float(y), float(t)])\n",
    "    xyt = np.array(xyt)\n",
    "    displace = np.roll(xyt[:, :-1], 1, axis=0)\n",
    "    displace[0, :] = displace[1, :]\n",
    "\n",
    "    delta_dist = np.power(displace - xyt[:, :-1], 2).sum(axis=1)\n",
    "    dist = np.cumsum(delta_dist)\n",
    "    speed = dist / xyt[:, -1] * 1000\n",
    "    fig, (ax1, ax2) = plt.subplots(2, 1, figsize=(10, 7))\n",
    "    ax1.plot(xyt[:, 0], xyt[:, 1])\n",
    "\n",
    "    ax1.scatter(xyt[0, 0], xyt[0, 1], color='green', label='Start')\n",
    "    ax1.scatter(xyt[-1, 0], xyt[-1, 1], color='red', label='End')\n",
    "    ax1.set_xlim([0, 6])\n",
    "    ax1.set_ylim([0, 2])\n",
    "    ax1.legend()\n",
    "    ax1.set_title('Trajectory (m)')\n",
    "\n",
    "    ax2.set_title('Average Speed (m/s)')\n",
    "    ax2.plot(xyt[:, 2]/1000, speed)\n",
    "    ax2.set_xlabel('Time (s)')\n",
    "    plt.suptitle('$A$: {:d} $f$: {:.2f} $\\phi$: {}'.format(params[0], params[1], params[2]))\n",
    "    plt.savefig('A_{:d}_f_{:.2f}_phi_{}.pdf'.format(params[0], params[1], params[2]))"
   ]
  },
  {
   "cell_type": "code",
   "execution_count": null,
   "id": "678d264a",
   "metadata": {},
   "outputs": [],
   "source": [
    "plot_traj_t()"
   ]
  },
  {
   "cell_type": "code",
   "execution_count": null,
   "id": "dadfb9fa",
   "metadata": {},
   "outputs": [],
   "source": [
    "# Make sure the first parameter is the filename, the second is in the order of [Amplitude, frequency, phase_lag]\n",
    "plot_traj_t(\"data/data_30_8_-6_5_0_3.txt\", [30, 0.8, -0.6])"
   ]
  },
  {
   "cell_type": "code",
   "execution_count": null,
   "id": "37e6f509",
   "metadata": {},
   "outputs": [],
   "source": [
    "# Make sure the first parameter is the filename, the second is in the order of [Amplitude, frequency, phase_lag]\n",
    "plot_traj_t(\"data/data_30_8_5_20_15_10.txt\", [30, 0.8, 0.5])"
   ]
  },
  {
   "cell_type": "code",
   "execution_count": null,
   "id": "5d68383b",
   "metadata": {},
   "outputs": [],
   "source": []
  }
 ],
 "metadata": {
  "kernelspec": {
   "display_name": "Python 3",
   "language": "python",
   "name": "python3"
  },
  "language_info": {
   "codemirror_mode": {
    "name": "ipython",
    "version": 3
   },
   "file_extension": ".py",
   "mimetype": "text/x-python",
   "name": "python",
   "nbconvert_exporter": "python",
   "pygments_lexer": "ipython3",
   "version": "3.7.13"
  },
  "vscode": {
   "interpreter": {
    "hash": "a0cf02273eead11651ba4d8ee11c118acb797b98a6b4808a1010fc2ade401fc6"
   }
  }
 },
 "nbformat": 4,
 "nbformat_minor": 5
}
